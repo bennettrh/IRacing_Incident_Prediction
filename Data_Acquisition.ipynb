{
 "cells": [
  {
   "cell_type": "code",
   "execution_count": 1,
   "metadata": {},
   "outputs": [],
   "source": [
    "from iracingdataapi.client import irDataClient \n",
    "import pandas as pd\n",
    "import numpy as np \n",
    "import datetime as dt\n",
    "idc = irDataClient(username = 'YOUR IRACING USERNAME', password = 'YOUR IRACING PASSWORD')"
   ]
  },
  {
   "cell_type": "code",
   "execution_count": 2,
   "metadata": {},
   "outputs": [],
   "source": [
    "# Function for getting the season ID of the season of interest given a year, quarter, and name \n",
    "\n",
    "def seasonID(year, quarter, name):\n",
    "    # For name input full name of series as seen in iracing client, in all lowercase\n",
    "    raw = irDataClient.season_list(idc, season_year=year, season_quarter=quarter)\n",
    "    dict_list = raw['seasons']\n",
    "    for dict in dict_list:\n",
    "        if name in dict['series_name'].lower():\n",
    "            return dict['season_id'], dict['season_name']\n",
    "        \n",
    "Formula4Q423 = seasonID(2023, 4, 'formula 4')"
   ]
  },
  {
   "cell_type": "code",
   "execution_count": 6,
   "metadata": {},
   "outputs": [],
   "source": [
    "# Uses irDataClient to pull data of interest for every subsession of a given season from the iracing data api \n",
    "\n",
    "def season_sessions(season_id):\n",
    "    full_season_dict = []\n",
    "    for i in range(0, 12):\n",
    "        raw_week = irDataClient.result_season_results(idc, season_id, event_type = 5, race_week_num = i)\n",
    "                \n",
    "        season_dict = {\n",
    "            'subsession_ID': [result['subsession_id'] for result in raw_week['results_list']],\n",
    "            'track_name': [result['track']['track_name'] for result in raw_week['results_list']],\n",
    "            'track_id': [result['track']['track_id'] for result in raw_week['results_list']],\n",
    "            'driver_count': [result['num_drivers'] for result in raw_week['results_list']],\n",
    "            'week_num': [result['race_week_num'] for result in raw_week['results_list']],\n",
    "            'date': [result['start_time'] for result in raw_week['results_list']],\n",
    "            'SOF': [result['event_strength_of_field'] for result in raw_week['results_list']],\n",
    "            'lead_changes': [result['num_lead_changes'] for result in raw_week['results_list']]\n",
    "        }\n",
    "        full_season_dict.append(pd.DataFrame(season_dict))\n",
    "    season_df = pd.concat(full_season_dict, ignore_index=True)\n",
    "    return season_df \n"
   ]
  },
  {
   "cell_type": "code",
   "execution_count": 4,
   "metadata": {},
   "outputs": [],
   "source": [
    "# Create the dataframe containing data for every subsession in a given season \n",
    "\n",
    "fiaF4S423 = season_sessions(4411)"
   ]
  },
  {
   "cell_type": "code",
   "execution_count": 4,
   "metadata": {},
   "outputs": [],
   "source": [
    "def sub_avg_inc(subsession):\n",
    "    # Returns the average incident count of a given subsession \n",
    "    result_subsession = irDataClient.result(idc, subsession)\n",
    "    result_race_dict = result_subsession['session_results'][2]['results']\n",
    "    subsession_incidents = [result['incidents'] for result in result_race_dict]\n",
    "    avg_inc = np.mean(subsession_incidents)\n",
    "    return avg_inc"
   ]
  },
  {
   "cell_type": "code",
   "execution_count": 5,
   "metadata": {},
   "outputs": [],
   "source": [
    "def sub_avg_license(subsession):\n",
    "    # Returns the average license level of a given subsession\n",
    "    result_subsession = irDataClient.result(idc, subsession)\n",
    "    result_race_dict = result_subsession['session_results'][2]['results']\n",
    "    subsession_license_level = [result['old_license_level'] for result in result_race_dict]\n",
    "    avg_license_level = np.mean(subsession_license_level)\n",
    "    return avg_license_level"
   ]
  },
  {
   "cell_type": "code",
   "execution_count": 14,
   "metadata": {},
   "outputs": [],
   "source": [
    "def get_temperature(subsession):\n",
    "    # Returns the temperature of a given subsession\n",
    "    result_subsession = irDataClient.result(idc, subsession)\n",
    "    temperature = result_subsession['weather']['temp_value']\n",
    "    return temperature"
   ]
  },
  {
   "cell_type": "code",
   "execution_count": 6,
   "metadata": {},
   "outputs": [],
   "source": [
    "# Create new column containing the average incident count of a given subsession\n",
    "\n",
    "fiaF4S423['average_incidents'] = [sub_avg_inc(session) for session in fiaF4S423['subsession_ID']]"
   ]
  },
  {
   "cell_type": "code",
   "execution_count": null,
   "metadata": {},
   "outputs": [],
   "source": [
    "# Create new column contianing the average license level of a given subsession\n",
    "\n",
    "fiaF4S423['average_license'] = [sub_avg_license(session) for session in fiaF4S423['subsession_ID']]"
   ]
  },
  {
   "cell_type": "code",
   "execution_count": 15,
   "metadata": {},
   "outputs": [],
   "source": [
    "# Create new column containing the temperature of a given subsession\n",
    "\n",
    "fiaF4S423['temperature'] = [get_temperature(subsession) for subsession in fiaF4S423['subsession_ID']]"
   ]
  },
  {
   "cell_type": "code",
   "execution_count": 14,
   "metadata": {},
   "outputs": [],
   "source": [
    "# Get the dictionaries from irDataClient.get_tracks() only for tracks raced in the season of interest\n",
    "\n",
    "unique_tracks = list(fiaF4S423['track_id'].unique())\n",
    "track_list = irDataClient.get_tracks(idc)\n",
    "relevant_tracks = [track for track in track_list if track['track_id'] in unique_tracks]"
   ]
  },
  {
   "cell_type": "code",
   "execution_count": 28,
   "metadata": {},
   "outputs": [],
   "source": [
    "# Pull track characteristics from relevant_tracks, merge with original dataframe on track_id\n",
    "\n",
    "track_characteristics = pd.DataFrame(\n",
    "    {\n",
    "        'track_id': [track['track_id'] for track in relevant_tracks],\n",
    "        'track_length': [track['track_config_length'] for track in relevant_tracks],\n",
    "        'track_corners': [track['corners_per_lap'] for track in relevant_tracks],\n",
    "        'free_track': [track['free_with_subscription'] for track in relevant_tracks]\n",
    "    }\n",
    ")\n",
    "\n",
    "fiaF4S423_merged = fiaF4S423.merge(track_characteristics, how = 'inner', on = 'track_id')"
   ]
  },
  {
   "cell_type": "code",
   "execution_count": 49,
   "metadata": {},
   "outputs": [],
   "source": [
    "# Convert to datetime and create column for day of the week\n",
    "\n",
    "fiaF4S423_merged['date'] = pd.to_datetime(fiaF4S423_merged['date'])\n",
    "fiaF4S423_merged['day_of_week'] = fiaF4S423_merged['date'].dt.dayofweek"
   ]
  },
  {
   "cell_type": "code",
   "execution_count": 55,
   "metadata": {},
   "outputs": [],
   "source": [
    "# Export the final csv \n",
    "\n",
    "fiaF4S423_merged.to_csv(r'C:\\Users\\Bennett\\Documents\\IRacing_Incident_Prediction\\CSVs\\f4_df_1.csv')"
   ]
  }
 ],
 "metadata": {
  "kernelspec": {
   "display_name": "iracing",
   "language": "python",
   "name": "python3"
  },
  "language_info": {
   "codemirror_mode": {
    "name": "ipython",
    "version": 3
   },
   "file_extension": ".py",
   "mimetype": "text/x-python",
   "name": "python",
   "nbconvert_exporter": "python",
   "pygments_lexer": "ipython3",
   "version": "3.11.9"
  }
 },
 "nbformat": 4,
 "nbformat_minor": 2
}
